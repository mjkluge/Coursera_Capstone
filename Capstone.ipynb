{
 "cells": [
  {
   "cell_type": "markdown",
   "metadata": {
    "collapsed": true
   },
   "source": [
    "# Coursera Capstone Project"
   ]
  },
  {
   "cell_type": "markdown",
   "metadata": {},
   "source": [
    "## An Exploration of Food Desserts and its Implications in Milwaukee"
   ]
  },
  {
   "cell_type": "markdown",
   "metadata": {},
   "source": [
    "### Introduction/Business Problem"
   ]
  },
  {
   "cell_type": "markdown",
   "metadata": {},
   "source": [
    "The problem that I am proposing is the scarcity of grocery stores in Milwaukee neighborhoods predominately in African American communities. Routinely Milwaukee is labeled as one of the most segregated cities in the United States. This exploration into the scarcity of grocery stores will be important to city planners, entrepreneurs and politicians. These stakeholders hold a vested interest in desegregating the metro, data will further drive the conversation."
   ]
  },
  {
   "cell_type": "markdown",
   "metadata": {},
   "source": [
    "### Data"
   ]
  },
  {
   "cell_type": "markdown",
   "metadata": {},
   "source": [
    "The Foursquare location data will be used to locate grocery stores and create clusters of other landmarks in Milwaukee neighborhoods. I will find what other landmarks are common  in neighborhoods that have low number of grocery stores to try to find other indicators of segregation. Neighborhood data will be pulled from VisitMilwaukee and demographics will be pulled from the US Census  American Community Survey."
   ]
  },
  {
   "cell_type": "code",
   "execution_count": null,
   "metadata": {},
   "outputs": [],
   "source": []
  }
 ],
 "metadata": {
  "kernelspec": {
   "display_name": "Python 3.6",
   "language": "python",
   "name": "python3"
  },
  "language_info": {
   "codemirror_mode": {
    "name": "ipython",
    "version": 3
   },
   "file_extension": ".py",
   "mimetype": "text/x-python",
   "name": "python",
   "nbconvert_exporter": "python",
   "pygments_lexer": "ipython3",
   "version": "3.6.8"
  }
 },
 "nbformat": 4,
 "nbformat_minor": 1
}
